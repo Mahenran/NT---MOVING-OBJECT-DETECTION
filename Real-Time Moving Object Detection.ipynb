{
 "cells": [
  {
   "cell_type": "code",
   "execution_count": 23,
   "id": "1c722a32-0aa7-494b-8200-907a1c27fea4",
   "metadata": {},
   "outputs": [],
   "source": [
    "import cv2  \n",
    "import time  \n",
    "import imutils "
   ]
  },
  {
   "cell_type": "code",
   "execution_count": 24,
   "id": "0538e201-6be5-44e7-b869-ff2c2cd017c4",
   "metadata": {},
   "outputs": [
    {
     "name": "stdout",
     "output_type": "stream",
     "text": [
      "Moving Object detected\n",
      "Moving Object detected\n",
      "Moving Object detected\n",
      "Moving Object detected\n",
      "Moving Object detected\n",
      "Moving Object detected\n",
      "Moving Object detected\n",
      "Moving Object detected\n",
      "Moving Object detected\n",
      "Moving Object detected\n",
      "Moving Object detected\n",
      "Moving Object detected\n",
      "Moving Object detected\n",
      "Moving Object detected\n",
      "Moving Object detected\n",
      "Moving Object detected\n",
      "Moving Object detected\n",
      "Moving Object detected\n",
      "Moving Object detected\n",
      "Moving Object detected\n",
      "Moving Object detected\n",
      "Moving Object detected\n",
      "Moving Object detected\n",
      "Moving Object detected\n",
      "Moving Object detected\n",
      "Moving Object detected\n",
      "Moving Object detected\n",
      "Moving Object detected\n",
      "Moving Object detected\n",
      "Moving Object detected\n",
      "Moving Object detected\n",
      "Moving Object detected\n",
      "Moving Object detected\n"
     ]
    }
   ],
   "source": [
    "#cam id 0 for default system camera\n",
    "cam = cv2.VideoCapture(0)  \n",
    "time.sleep(1)\n",
    "\n",
    "firstFrame=None\n",
    "area = 500\n",
    "\n",
    "while True:\n",
    "    _,img = cam.read()   \n",
    "    text = \"Normal\"\n",
    "    img = imutils.resize(img, width=1000) \n",
    "    grayImg = cv2.cvtColor(img, cv2.COLOR_BGR2GRAY)   \n",
    "    gaussianImg = cv2.GaussianBlur(grayImg, (21, 21), 0)  \n",
    "    if firstFrame is None:\n",
    "            firstFrame = gaussianImg \n",
    "            continue\n",
    "    imgDiff = cv2.absdiff(firstFrame, gaussianImg)  \n",
    "    threshImg = cv2.threshold(imgDiff, 25, 255, cv2.THRESH_BINARY)[1]\n",
    "    threshImg = cv2.dilate(threshImg, None, iterations=2)\n",
    "    cnts = cv2.findContours(threshImg.copy(), cv2.RETR_EXTERNAL,\n",
    "            cv2.CHAIN_APPROX_SIMPLE)\n",
    "    cnts = imutils.grab_contours(cnts)\n",
    "    for c in cnts:\n",
    "            if cv2.contourArea(c) < area:  \n",
    "                    continue\n",
    "            (x, y, w, h) = cv2.boundingRect(c)\n",
    "            cv2.rectangle(img, (x, y), (x + w, y + h), (0, 255, 0), 2)\n",
    "            text = \"Moving Object detected\"\n",
    "    print(text)\n",
    "    cv2.putText(img, text, (10, 20),\n",
    "            cv2.FONT_HERSHEY_SIMPLEX, 0.5, (0, 0, 255), 2)\n",
    "    cv2.imshow(\"cameraFeed\",img)\n",
    "    key = cv2.waitKey(1) & 0xFF\n",
    "    if key == ord(\"q\"):\n",
    "        break\n",
    "\n",
    "cam.release()\n",
    "cv2.destroyAllWindows()"
   ]
  },
  {
   "cell_type": "code",
   "execution_count": 16,
   "id": "42aa4d04-99db-4f16-b156-b2141ef46599",
   "metadata": {},
   "outputs": [],
   "source": []
  },
  {
   "cell_type": "code",
   "execution_count": null,
   "id": "7a6fbbea-1a02-4597-ac32-d297b420c664",
   "metadata": {},
   "outputs": [],
   "source": []
  }
 ],
 "metadata": {
  "kernelspec": {
   "display_name": "Python 3 (ipykernel)",
   "language": "python",
   "name": "python3"
  },
  "language_info": {
   "codemirror_mode": {
    "name": "ipython",
    "version": 3
   },
   "file_extension": ".py",
   "mimetype": "text/x-python",
   "name": "python",
   "nbconvert_exporter": "python",
   "pygments_lexer": "ipython3",
   "version": "3.12.4"
  }
 },
 "nbformat": 4,
 "nbformat_minor": 5
}
